{
 "cells": [
  {
   "cell_type": "markdown",
   "metadata": {
    "collapsed": true
   },
   "source": [
    "# Merge sort algorithm implementation"
   ]
  },
  {
   "cell_type": "markdown",
   "metadata": {},
   "source": [
    "## Splitting function\n",
    "Split a list into two halves"
   ]
  },
  {
   "cell_type": "code",
   "execution_count": 2,
   "metadata": {},
   "outputs": [],
   "source": [
    "def split(a_list):\n",
    "    split_point = len(a_list) // 2\n",
    "    left_half = a_list[:split_point]\n",
    "    right_half = a_list[split_point:]\n",
    "    \n",
    "    return left_half, right_half\n"
   ]
  },
  {
   "cell_type": "code",
   "execution_count": 3,
   "metadata": {},
   "outputs": [
    {
     "data": {
      "text/plain": [
       "([3, 2], [1, 0, 2])"
      ]
     },
     "execution_count": 3,
     "metadata": {},
     "output_type": "execute_result"
    }
   ],
   "source": [
    "my_list = [3, 2, 1, 0, 2]\n",
    "split(my_list)"
   ]
  },
  {
   "cell_type": "markdown",
   "metadata": {},
   "source": [
    "## Merge functionality\n",
    "Merge two lists, assuming they are "
   ]
  },
  {
   "cell_type": "code",
   "execution_count": 4,
   "metadata": {},
   "outputs": [],
   "source": [
    "def merge(list1, list2):\n",
    "    counter1 = 0\n",
    "    counter2 = 0\n",
    "    \n",
    "    length1 = len(list1)\n",
    "    length2 = len(list2)\n",
    "    \n",
    "    merged_list = []\n",
    "    merged_length = length1 + length2\n",
    "    \n",
    "    for i in range(merged_length):\n",
    "        if (counter1 < length1) and (counter2 < length2):\n",
    "            elem1 = list1[counter1]\n",
    "            elem2 = list2[counter2]\n",
    "            \n",
    "            if elem1 <= elem2:\n",
    "                merged_list.append(elem1)\n",
    "                counter1 += 1\n",
    "            else:\n",
    "                merged_list.append(elem2)\n",
    "                counter2 += 1\n",
    "        \n",
    "        elif counter1 < length1:\n",
    "            # counter2 is not < length 2 - run out of elements from list 2\n",
    "            \n",
    "            elem1 = list1[counter1]\n",
    "            merged_list.append(elem1)\n",
    "            counter1 += 1\n",
    "        \n",
    "        else:\n",
    "            # similarly, run out of elements from list 1\n",
    "            elem2 = list2[counter2]\n",
    "            merged_list.append(elem2)\n",
    "            counter2 += 1\n",
    "    \n",
    "    return merged_list\n",
    "\n"
   ]
  },
  {
   "cell_type": "code",
   "execution_count": 8,
   "metadata": {},
   "outputs": [
    {
     "data": {
      "text/plain": [
       "[1, 3, 4, 6, 7, 8, 10]"
      ]
     },
     "execution_count": 8,
     "metadata": {},
     "output_type": "execute_result"
    }
   ],
   "source": [
    "l1 = [1, 4, 8, 10]  # one sorted list\n",
    "l2 = [3, 6, 7]      # another sorted list\n",
    "merge(l1, l2)       # merge them\n"
   ]
  },
  {
   "cell_type": "code",
   "execution_count": 9,
   "metadata": {},
   "outputs": [
    {
     "data": {
      "text/plain": [
       "[2, 3]"
      ]
     },
     "execution_count": 9,
     "metadata": {},
     "output_type": "execute_result"
    }
   ],
   "source": [
    "# works for single-element lists too\n",
    "l1 = [3]\n",
    "l2 = [2]\n",
    "merge(l1, l2)"
   ]
  },
  {
   "cell_type": "markdown",
   "metadata": {},
   "source": [
    "## combine the two parts"
   ]
  },
  {
   "cell_type": "code",
   "execution_count": 10,
   "metadata": {},
   "outputs": [],
   "source": [
    "def merge_sort(a_list):\n",
    "    if len(a_list) > 1:\n",
    "        left_half, right_half = split(a_list)\n",
    "        \n",
    "        left_half_sorted = merge_sort(left_half)\n",
    "        right_half_sorted = merge_sort(right_half)\n",
    "        \n",
    "        merged_list = merge(left_half_sorted, right_half_sorted)\n",
    "        return merged_list\n",
    "    else:\n",
    "        return a_list  # single-element list is already sorted\n"
   ]
  },
  {
   "cell_type": "code",
   "execution_count": 11,
   "metadata": {},
   "outputs": [
    {
     "data": {
      "text/plain": [
       "[-1, 1, 2, 3, 3, 3, 4, 10, 60]"
      ]
     },
     "execution_count": 11,
     "metadata": {},
     "output_type": "execute_result"
    }
   ],
   "source": [
    "my_list = [3, 2, 1, 4, 10, 3, -1, 60, 3]\n",
    "merge_sort(my_list)\n"
   ]
  },
  {
   "cell_type": "code",
   "execution_count": null,
   "metadata": {},
   "outputs": [],
   "source": []
  }
 ],
 "metadata": {
  "kernelspec": {
   "display_name": "Python 2",
   "language": "python",
   "name": "python2"
  },
  "language_info": {
   "codemirror_mode": {
    "name": "ipython",
    "version": 2
   },
   "file_extension": ".py",
   "mimetype": "text/x-python",
   "name": "python",
   "nbconvert_exporter": "python",
   "pygments_lexer": "ipython2",
   "version": "2.7.6"
  }
 },
 "nbformat": 4,
 "nbformat_minor": 0
}
