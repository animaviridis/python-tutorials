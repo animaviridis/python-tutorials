{
 "cells": [
  {
   "cell_type": "markdown",
   "metadata": {
    "collapsed": true
   },
   "source": [
    "# Merge sort algorithm implementation\n",
    "\n",
    "The algorithm splits the list of numbers to halves, and then halves of halves, etc., until it deals with single-element lists. \n",
    "Then, it starts merging the bits, sorting them on the way.\n",
    "\n",
    "As mentioned in the description, there are two main sub-functionalities in the algorithm:\n",
    "- splitting\n",
    "- merging (with sorting)\n",
    "\n",
    "In this example, they are implemented as two separate functions. Afterwards, they are used as building blocks to assemble the main merge sort function."
   ]
  },
  {
   "cell_type": "markdown",
   "metadata": {},
   "source": [
    "## 1. Splitting function\n",
    "Take a list as an argument and split it into two halves."
   ]
  },
  {
   "cell_type": "code",
   "execution_count": 1,
   "metadata": {},
   "outputs": [],
   "source": [
    "def split(a_list):\n",
    "    split_point = len(a_list) // 2     # mid-point - index in the middle of the list\n",
    "    left_half = a_list[:split_point]   # from the start (index 0, included) till the split index (not included)\n",
    "    right_half = a_list[split_point:]  # from the split index (included) till the end (last element is also included)\n",
    "    \n",
    "    return left_half, right_half\n"
   ]
  },
  {
   "cell_type": "markdown",
   "metadata": {},
   "source": [
    "Let's see how it works!"
   ]
  },
  {
   "cell_type": "code",
   "execution_count": 2,
   "metadata": {},
   "outputs": [
    {
     "name": "stdout",
     "output_type": "stream",
     "text": [
      "left half: [3, 2, 1]\n",
      "right half: [0, 2, 6]\n"
     ]
    }
   ],
   "source": [
    "my_list = [3, 2, 1, 0, 2, 6]\n",
    "\n",
    "left, right = split(my_list)\n",
    "\n",
    "print(f\"left half: {left}\")\n",
    "print(f\"right half: {right}\")"
   ]
  },
  {
   "cell_type": "markdown",
   "metadata": {},
   "source": [
    "If a list has odd number of elements, one moiety will be shorter - but we can accept that:"
   ]
  },
  {
   "cell_type": "code",
   "execution_count": 3,
   "metadata": {},
   "outputs": [
    {
     "data": {
      "text/plain": [
       "([0, 10], [12, -4, 2])"
      ]
     },
     "execution_count": 3,
     "metadata": {},
     "output_type": "execute_result"
    }
   ],
   "source": [
    "split([0, 10, 12, -4, 2])"
   ]
  },
  {
   "cell_type": "markdown",
   "metadata": {},
   "source": [
    "Note for the previous line: Jupyter Notebook works a bit like Python console - the (last) returned value in a cell gets displayed if it's not assigned to any value, even without a `print` statement. It also remembers previously defined variables:"
   ]
  },
  {
   "cell_type": "code",
   "execution_count": 4,
   "metadata": {},
   "outputs": [
    {
     "data": {
      "text/plain": [
       "[3, 2, 1, 0, 2, 6]"
      ]
     },
     "execution_count": 4,
     "metadata": {},
     "output_type": "execute_result"
    }
   ],
   "source": [
    "my_list"
   ]
  },
  {
   "cell_type": "code",
   "execution_count": 5,
   "metadata": {},
   "outputs": [
    {
     "data": {
      "text/plain": [
       "[3, 2, 1]"
      ]
     },
     "execution_count": 5,
     "metadata": {},
     "output_type": "execute_result"
    }
   ],
   "source": [
    "left"
   ]
  },
  {
   "cell_type": "markdown",
   "metadata": {},
   "source": [
    "## 2. Merging function\n",
    "Merge two lists (`list1`, `list2`), assuming they are internally sorted. Return the merging result (`merged_list`).\n",
    "\n",
    "Note: a single-element list is already sorted. Two single-element lists can then be merged to a sorted two-element list, and so on.\n",
    "\n",
    "To implement the merge functionality, we need at least these three new variables:\n",
    "\n",
    "- a container for the merged list (`merged_list`)\n",
    "- a counter indicating where we are in list 1 ('left half' - `counter1`)\n",
    "- similar counter for list 2 ('right half' - `counter2`)\n",
    "\n",
    "Additional helper variables defined in the code:\n",
    "\n",
    "- `length1`, `length2` - lengths of both lists - to make sure we stay within them all the time (avoid `IndexError`)\n",
    "- `merged_length` - total length of the merged list, which is a sum of the two lengths - to know exactly how many numbers we are going to have in the merged list (we can use a *for loop* then)\n",
    "- on the way: `elem1`, `elem2` - current 'head' elements from lists 1 (left) and 2 (right) respectively\n",
    "- `elem` - as above, in cases where we don't have to choose between list 1 and list 2 because we have already used up all elements from one of them, so only the other matters.\n"
   ]
  },
  {
   "cell_type": "code",
   "execution_count": 6,
   "metadata": {},
   "outputs": [],
   "source": [
    "def merge(list1, list2):\n",
    "    # define the counters; start with 0 - the first index in both lists\n",
    "    counter1 = 0\n",
    "    counter2 = 0\n",
    "    \n",
    "    # lengths of the two lists\n",
    "    length1 = len(list1)\n",
    "    length2 = len(list2)\n",
    "    \n",
    "    # container for the result - and how many elements we expect in it\n",
    "    merged_list = []\n",
    "    merged_length = length1 + length2\n",
    "    \n",
    "    for i in range(merged_length):  # we are going to append <merged_length> elements to merged_list\n",
    "        \n",
    "        # case 1: there are still elements to be picked from both lists\n",
    "        if (counter1 < length1) and (counter2 < length2):\n",
    "            # 'head elements' from both lists - the first ones which have not yet been used\n",
    "            elem1 = list1[counter1]\n",
    "            elem2 = list2[counter2]\n",
    "            \n",
    "            # pick the smaller one, append it and increase the respective counter\n",
    "            if elem1 <= elem2:\n",
    "                merged_list.append(elem1)\n",
    "                counter1 += 1\n",
    "            else:\n",
    "                merged_list.append(elem2)\n",
    "                counter2 += 1\n",
    "        \n",
    "        # case 2: we have used up all elements from list2, but there are still some in list1, so we just use these\n",
    "        elif counter1 < length1:            \n",
    "            elem = list1[counter1]\n",
    "            merged_list.append(elem)\n",
    "            counter1 += 1\n",
    "        \n",
    "        # case 3: same as case 2, just the other way around\n",
    "        # (we don't have to check whether 'counter2 < length2' because it results from the lengths we calculated before)\n",
    "        else:\n",
    "            elem = list2[counter2]\n",
    "            merged_list.append(elem)\n",
    "            counter2 += 1\n",
    "    \n",
    "    return merged_list\n",
    "\n"
   ]
  },
  {
   "cell_type": "markdown",
   "metadata": {},
   "source": [
    "Let's test it!\n",
    "Start with two single-element lists."
   ]
  },
  {
   "cell_type": "code",
   "execution_count": 7,
   "metadata": {},
   "outputs": [
    {
     "data": {
      "text/plain": [
       "[2, 8]"
      ]
     },
     "execution_count": 7,
     "metadata": {},
     "output_type": "execute_result"
    }
   ],
   "source": [
    "l1 = [8]\n",
    "l2 = [2]\n",
    "merge(l1, l2)"
   ]
  },
  {
   "cell_type": "markdown",
   "metadata": {},
   "source": [
    "Same as above, just in a single line:"
   ]
  },
  {
   "cell_type": "code",
   "execution_count": 8,
   "metadata": {},
   "outputs": [
    {
     "data": {
      "text/plain": [
       "[1, 12]"
      ]
     },
     "execution_count": 8,
     "metadata": {},
     "output_type": "execute_result"
    }
   ],
   "source": [
    "merge([1], [12])"
   ]
  },
  {
   "cell_type": "markdown",
   "metadata": {},
   "source": [
    "Now, let's try longer lists."
   ]
  },
  {
   "cell_type": "code",
   "execution_count": 9,
   "metadata": {},
   "outputs": [
    {
     "data": {
      "text/plain": [
       "[1, 3, 4, 6, 7, 8, 8, 10]"
      ]
     },
     "execution_count": 9,
     "metadata": {},
     "output_type": "execute_result"
    }
   ],
   "source": [
    "l1 = [1, 4, 8, 10]  # one sorted list\n",
    "l2 = [3, 6, 7, 8]   # another sorted list\n",
    "merge(l1, l2)       # merge them\n"
   ]
  },
  {
   "cell_type": "markdown",
   "metadata": {},
   "source": [
    "Works for not equally sized lists too:"
   ]
  },
  {
   "cell_type": "code",
   "execution_count": 10,
   "metadata": {},
   "outputs": [
    {
     "data": {
      "text/plain": [
       "[1, 2, 3, 6, 8, 11, 12]"
      ]
     },
     "execution_count": 10,
     "metadata": {},
     "output_type": "execute_result"
    }
   ],
   "source": [
    "merge([1, 2, 6], [3, 8, 11, 12])"
   ]
  },
  {
   "cell_type": "markdown",
   "metadata": {},
   "source": [
    "Note: the assumption of the lists being internally sorted is crucial. Here's what would happen otherwise:"
   ]
  },
  {
   "cell_type": "code",
   "execution_count": 11,
   "metadata": {},
   "outputs": [
    {
     "data": {
      "text/plain": [
       "[1, 2, 0, 3, 7, 8]"
      ]
     },
     "execution_count": 11,
     "metadata": {},
     "output_type": "execute_result"
    }
   ],
   "source": [
    "l1_unsorted = [1, 3, 8]\n",
    "l2_unsorted = [2, 0, 7]\n",
    "merge(l1_unsorted, l2_unsorted)"
   ]
  },
  {
   "cell_type": "markdown",
   "metadata": {},
   "source": [
    "## Merge sort - combine the two parts\n",
    "Split a list recursively until there are only lists holding single numbers.\n",
    "Then, start merging them, picking elements so that every intermediate result is sorted."
   ]
  },
  {
   "cell_type": "code",
   "execution_count": 12,
   "metadata": {},
   "outputs": [],
   "source": [
    "def merge_sort(a_list):\n",
    "    \n",
    "    if len(a_list) <= 1:\n",
    "        return a_list   # single-element list is already sorted - just return it with no changes\n",
    "    \n",
    "    # else, apply the merge sort algorithm\n",
    "    # Note: we don't have to put the 'else' here - this part of the code won't be reached at all if the list has only\n",
    "    # a single element; that's because of the return statement above\n",
    "    \n",
    "    # 1. Split the list into two halves\n",
    "    left_half, right_half = split(a_list)\n",
    "    \n",
    "    \n",
    "    # 2. Sort both halves, applying the merge_sort function recursively\n",
    "    left_half_sorted = merge_sort(left_half)\n",
    "    right_half_sorted = merge_sort(right_half)\n",
    "    \n",
    "    # 3. Merge the sorted halves\n",
    "    merged_list = merge(left_half_sorted, right_half_sorted)\n",
    "    \n",
    "    # Return the sorted result (it is also returned by every 'child' call to its 'parent' on the way)\n",
    "    return merged_list\n"
   ]
  },
  {
   "cell_type": "markdown",
   "metadata": {},
   "source": [
    "Let's see how it works!"
   ]
  },
  {
   "cell_type": "code",
   "execution_count": 13,
   "metadata": {},
   "outputs": [
    {
     "data": {
      "text/plain": [
       "[-1, 1, 2, 3, 3, 3, 4, 10, 60]"
      ]
     },
     "execution_count": 13,
     "metadata": {},
     "output_type": "execute_result"
    }
   ],
   "source": [
    "my_list = [3, 2, 1, 4, 10, 3, -1, 60, 3]\n",
    "my_list_sorted = merge_sort(my_list)\n",
    "my_list_sorted"
   ]
  },
  {
   "cell_type": "code",
   "execution_count": 14,
   "metadata": {},
   "outputs": [
    {
     "data": {
      "text/plain": [
       "[-3.12123, -1, 3, 3, 5, 5.5, 12, 100]"
      ]
     },
     "execution_count": 14,
     "metadata": {},
     "output_type": "execute_result"
    }
   ],
   "source": [
    "merge_sort([5, -1, 3, 5.5, -3.12123, 12, 100, 3])  # it can deal with floats, negative numbers, repeated elmements"
   ]
  },
  {
   "cell_type": "code",
   "execution_count": 15,
   "metadata": {},
   "outputs": [
    {
     "data": {
      "text/plain": [
       "[3]"
      ]
     },
     "execution_count": 15,
     "metadata": {},
     "output_type": "execute_result"
    }
   ],
   "source": [
    "merge_sort([3])  # works for single-element lists (obviously - it has to do it on the way)"
   ]
  },
  {
   "cell_type": "code",
   "execution_count": 16,
   "metadata": {},
   "outputs": [
    {
     "data": {
      "text/plain": [
       "[]"
      ]
     },
     "execution_count": 16,
     "metadata": {},
     "output_type": "execute_result"
    }
   ],
   "source": [
    "merge_sort([])  # and even for empty lists (find the line in the code which enables that!)"
   ]
  },
  {
   "cell_type": "markdown",
   "metadata": {},
   "source": [
    "__Little exercise:__ take an unsorted list and try to write down all steps the function takes to sort it. Drawing a 'tree' might help. Then add some `print` statements in the code and see if you got the order right."
   ]
  }
 ],
 "metadata": {
  "kernelspec": {
   "display_name": "Python 3",
   "language": "python",
   "name": "python3"
  },
  "language_info": {
   "codemirror_mode": {
    "name": "ipython",
    "version": 3
   },
   "file_extension": ".py",
   "mimetype": "text/x-python",
   "name": "python",
   "nbconvert_exporter": "python",
   "pygments_lexer": "ipython3",
   "version": "3.7.4"
  }
 },
 "nbformat": 4,
 "nbformat_minor": 1
}
